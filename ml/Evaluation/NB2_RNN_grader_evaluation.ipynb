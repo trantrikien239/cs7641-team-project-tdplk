{
  "cells": [
    {
      "cell_type": "code",
      "source": [
        "!pip install gensim --upgrade"
      ],
      "metadata": {
        "colab": {
          "base_uri": "https://localhost:8080/",
          "height": 359
        },
        "id": "FEOdhoUJImMa",
        "outputId": "aad0d4a9-c6c0-4d89-846f-38a11cdb0350"
      },
      "execution_count": 6,
      "outputs": [
        {
          "output_type": "stream",
          "name": "stdout",
          "text": [
            "Looking in indexes: https://pypi.org/simple, https://us-python.pkg.dev/colab-wheels/public/simple/\n",
            "Requirement already satisfied: gensim in /usr/local/lib/python3.7/dist-packages (3.6.0)\n",
            "Collecting gensim\n",
            "  Downloading gensim-4.2.0-cp37-cp37m-manylinux_2_12_x86_64.manylinux2010_x86_64.whl (24.1 MB)\n",
            "\u001b[K     |████████████████████████████████| 24.1 MB 1.4 MB/s \n",
            "\u001b[?25hRequirement already satisfied: scipy>=0.18.1 in /usr/local/lib/python3.7/dist-packages (from gensim) (1.7.3)\n",
            "Requirement already satisfied: numpy>=1.17.0 in /usr/local/lib/python3.7/dist-packages (from gensim) (1.21.6)\n",
            "Requirement already satisfied: smart-open>=1.8.1 in /usr/local/lib/python3.7/dist-packages (from gensim) (5.2.1)\n",
            "Installing collected packages: gensim\n",
            "  Attempting uninstall: gensim\n",
            "    Found existing installation: gensim 3.6.0\n",
            "    Uninstalling gensim-3.6.0:\n",
            "      Successfully uninstalled gensim-3.6.0\n",
            "Successfully installed gensim-4.2.0\n"
          ]
        },
        {
          "output_type": "display_data",
          "data": {
            "application/vnd.colab-display-data+json": {
              "pip_warning": {
                "packages": [
                  "gensim"
                ]
              }
            }
          },
          "metadata": {}
        }
      ]
    },
    {
      "cell_type": "code",
      "execution_count": 1,
      "metadata": {
        "id": "wa2UEObsFsZ_"
      },
      "outputs": [],
      "source": [
        "%load_ext autoreload\n",
        "%autoreload 2\n",
        "import pandas as pd\n",
        "import numpy as np\n",
        "import gensim.downloader\n",
        "import torch\n"
      ]
    },
    {
      "cell_type": "code",
      "source": [
        "# from google.colab import drive\n",
        "# drive.mount('/content/drive')"
      ],
      "metadata": {
        "id": "tMqCMG6BHCcq"
      },
      "execution_count": null,
      "outputs": []
    },
    {
      "cell_type": "code",
      "execution_count": 2,
      "metadata": {
        "id": "B7YHSu-JFsaC"
      },
      "outputs": [],
      "source": [
        "from dataset import EssayDataset, essay_collate_fn"
      ]
    },
    {
      "cell_type": "code",
      "execution_count": 3,
      "metadata": {
        "id": "YiNGbIwUFsaC"
      },
      "outputs": [],
      "source": [
        "BATCH_SIZE = 128\n",
        "np.random.seed(42)"
      ]
    },
    {
      "cell_type": "code",
      "execution_count": null,
      "metadata": {
        "id": "eClIl_z6FsaD"
      },
      "outputs": [],
      "source": [
        "#Loading Toeknized train Data from Palash's file\n",
        "data = pd.read_csv(\"train_tokenized.csv\") # Palash's file\n",
        "data.drop(columns=[\"Unnamed: 0\"], inplace=True)\n",
        "data.head()"
      ]
    },
    {
      "cell_type": "code",
      "execution_count": 5,
      "metadata": {
        "id": "4UHjH0EjFsaD",
        "outputId": "47892735-4306-4b00-ae3c-50b1a63ac9f1",
        "colab": {
          "base_uri": "https://localhost:8080/"
        }
      },
      "outputs": [
        {
          "output_type": "execute_result",
          "data": {
            "text/plain": [
              "400000"
            ]
          },
          "metadata": {},
          "execution_count": 5
        }
      ],
      "source": [
        "glove_vectors = gensim.downloader.load('glove-wiki-gigaword-200')\n",
        "glove_dict = glove_vectors.key_to_index\n",
        "len(glove_dict)"
      ]
    },
    {
      "cell_type": "code",
      "execution_count": 10,
      "metadata": {
        "id": "ldKRI2iKFsaD"
      },
      "outputs": [],
      "source": [
        "#Vector Array\n",
        "gensim_emb_weights = glove_vectors.vectors\n",
        "gensim_emb_weights.shape"
      ]
    },
    {
      "cell_type": "code",
      "execution_count": 21,
      "metadata": {
        "id": "uE2KJ4-AFsaD"
      },
      "outputs": [],
      "source": [
        "data['list_lower_word_token_nltk'] = data['word_token_nltk'].apply(eval)\n",
        "data['list_lower_word_token_nltk'] = data['list_lower_word_token_nltk'].apply(lambda l: [e.lower() for e in l if e not in ('', ' ')])\n",
        "data['num_valid_token'] = data['list_lower_word_token_nltk'].apply(lambda x: len([c for c in x if c in glove_dict]))\n",
        "data['num_all_token'] = data['list_lower_word_token_nltk'].apply(len)\n",
        "data['unrecgonized_tokens'] = data['list_lower_word_token_nltk'].apply(lambda x: [c for c in x if c not in glove_dict])\n",
        "data[\"word_token_nltk_idx\"] = data['list_lower_word_token_nltk'].apply(\n",
        "    lambda x: [glove_vectors.key_to_index[c]  if c in glove_dict else 400000 for c in x])"
      ]
    },
    {
      "cell_type": "code",
      "execution_count": 22,
      "metadata": {
        "id": "fNaHI4oiFsaE",
        "outputId": "73df4e5e-2958-47c5-813e-b929e9df808c",
        "colab": {
          "base_uri": "https://localhost:8080/"
        }
      },
      "outputs": [
        {
          "output_type": "execute_result",
          "data": {
            "text/plain": [
              "0       [41, 269, 12, 543, 54, 2161, 25, 2741, 22, 163...\n",
              "1       [61, 7, 747, 14, 7, 511, 81, 33, 4, 886, 20, 8...\n",
              "2       [8607, 1, 2965, 83, 6479, 511, 0, 164, 527, 3,...\n",
              "3       [0, 254, 79, 6, 214, 14, 61, 81, 399, 4961, 2,...\n",
              "4       [357, 743, 3, 20524, 86, 1433, 6, 68, 69, 86, ...\n",
              "                              ...                        \n",
              "3906    [41, 733, 622, 28319, 6, 905, 10, 631, 95, 91,...\n",
              "3907    [500, 1485, 1, 543, 88, 36, 33, 4, 4117, 17, 6...\n",
              "3908    [28, 7, 747, 14, 7, 1019, 10, 81, 4, 88, 392, ...\n",
              "3909    [109, 69, 10027, 17, 4324, 28833, 9, 8643, 1, ...\n",
              "3910    [88, 81, 269, 12, 1899, 14, 0, 444, 873, 10, 6...\n",
              "Name: word_token_nltk_idx, Length: 3911, dtype: object"
            ]
          },
          "metadata": {},
          "execution_count": 22
        }
      ],
      "source": [
        "data[\"word_token_nltk_idx\"]"
      ]
    },
    {
      "cell_type": "code",
      "execution_count": 23,
      "metadata": {
        "id": "2yZ-xi_oFsaE",
        "outputId": "5c51cfbc-99c5-4e5d-8202-7e7b7c863520",
        "colab": {
          "base_uri": "https://localhost:8080/"
        }
      },
      "outputs": [
        {
          "output_type": "execute_result",
          "data": {
            "text/plain": [
              "[2.5, 2.5, 3.0, 2.0, 2.0, 2.5]"
            ]
          },
          "metadata": {},
          "execution_count": 23
        }
      ],
      "source": [
        "task_cols = [\"cohesion\",\"syntax\",\"vocabulary\", \n",
        "    \"phraseology\", \"grammar\", \"conventions\"]\n",
        "data.loc[1, task_cols].to_list()"
      ]
    },
    {
      "cell_type": "code",
      "execution_count": 24,
      "metadata": {
        "id": "Ao_kaNsgFsaE"
      },
      "outputs": [],
      "source": [
        "df_train, df_valid, df_test = np.split(\n",
        "    data[[\"text_id\", \"full_text\", \"word_token_nltk_idx\"] + task_cols].sample(\n",
        "        frac=1, random_state=42), \n",
        "    [int(.8*len(data)), int(.9*len(data))])"
      ]
    },
    {
      "cell_type": "code",
      "execution_count": 25,
      "metadata": {
        "id": "Eg1AzKo2FsaE",
        "outputId": "b3136a70-89b1-44dd-ce9e-30bb156f5509",
        "colab": {
          "base_uri": "https://localhost:8080/",
          "height": 206
        }
      },
      "outputs": [
        {
          "output_type": "execute_result",
          "data": {
            "text/plain": [
              "           text_id                                          full_text  \\\n",
              "1552  772D27D400BB  It god to have a possitive attitude when you d...   \n",
              "2114  9E8F3C6405CA  Why do people ask more then one person for adv...   \n",
              "1965  948771F795EB  We accomplish more when we are active, and are...   \n",
              "3856  FE14D7378CFB  Do you agree or disagree about imagination bei...   \n",
              "1610  7AAE019F70D6  I disagree with the principal saying that all ...   \n",
              "\n",
              "                                    word_token_nltk_idx  cohesion  syntax  \\\n",
              "1552  [20, 1533, 4, 33, 7, 400000, 4191, 61, 81, 88,...       3.0     2.5   \n",
              "2114  [738, 88, 69, 1712, 56, 127, 48, 899, 10, 3240...       3.0     2.0   \n",
              "1965  [53, 9749, 56, 61, 53, 32, 1546, 1, 5, 32, 690...       4.0     4.0   \n",
              "3856  [88, 81, 2137, 46, 10027, 59, 9201, 134, 56, 4...       3.0     3.0   \n",
              "1610  [41, 10027, 17, 0, 2965, 345, 12, 64, 1813, 18...       3.5     3.5   \n",
              "\n",
              "      vocabulary  phraseology  grammar  conventions  \n",
              "1552         2.5          2.0      2.0          2.0  \n",
              "2114         3.0          3.5      3.0          3.0  \n",
              "1965         3.0          4.0      4.0          4.0  \n",
              "3856         3.5          3.0      3.5          3.5  \n",
              "1610         3.5          3.5      3.0          3.5  "
            ],
            "text/html": [
              "\n",
              "  <div id=\"df-712bf9cb-62ac-40f7-9308-b6e297738662\">\n",
              "    <div class=\"colab-df-container\">\n",
              "      <div>\n",
              "<style scoped>\n",
              "    .dataframe tbody tr th:only-of-type {\n",
              "        vertical-align: middle;\n",
              "    }\n",
              "\n",
              "    .dataframe tbody tr th {\n",
              "        vertical-align: top;\n",
              "    }\n",
              "\n",
              "    .dataframe thead th {\n",
              "        text-align: right;\n",
              "    }\n",
              "</style>\n",
              "<table border=\"1\" class=\"dataframe\">\n",
              "  <thead>\n",
              "    <tr style=\"text-align: right;\">\n",
              "      <th></th>\n",
              "      <th>text_id</th>\n",
              "      <th>full_text</th>\n",
              "      <th>word_token_nltk_idx</th>\n",
              "      <th>cohesion</th>\n",
              "      <th>syntax</th>\n",
              "      <th>vocabulary</th>\n",
              "      <th>phraseology</th>\n",
              "      <th>grammar</th>\n",
              "      <th>conventions</th>\n",
              "    </tr>\n",
              "  </thead>\n",
              "  <tbody>\n",
              "    <tr>\n",
              "      <th>1552</th>\n",
              "      <td>772D27D400BB</td>\n",
              "      <td>It god to have a possitive attitude when you d...</td>\n",
              "      <td>[20, 1533, 4, 33, 7, 400000, 4191, 61, 81, 88,...</td>\n",
              "      <td>3.0</td>\n",
              "      <td>2.5</td>\n",
              "      <td>2.5</td>\n",
              "      <td>2.0</td>\n",
              "      <td>2.0</td>\n",
              "      <td>2.0</td>\n",
              "    </tr>\n",
              "    <tr>\n",
              "      <th>2114</th>\n",
              "      <td>9E8F3C6405CA</td>\n",
              "      <td>Why do people ask more then one person for adv...</td>\n",
              "      <td>[738, 88, 69, 1712, 56, 127, 48, 899, 10, 3240...</td>\n",
              "      <td>3.0</td>\n",
              "      <td>2.0</td>\n",
              "      <td>3.0</td>\n",
              "      <td>3.5</td>\n",
              "      <td>3.0</td>\n",
              "      <td>3.0</td>\n",
              "    </tr>\n",
              "    <tr>\n",
              "      <th>1965</th>\n",
              "      <td>948771F795EB</td>\n",
              "      <td>We accomplish more when we are active, and are...</td>\n",
              "      <td>[53, 9749, 56, 61, 53, 32, 1546, 1, 5, 32, 690...</td>\n",
              "      <td>4.0</td>\n",
              "      <td>4.0</td>\n",
              "      <td>3.0</td>\n",
              "      <td>4.0</td>\n",
              "      <td>4.0</td>\n",
              "      <td>4.0</td>\n",
              "    </tr>\n",
              "    <tr>\n",
              "      <th>3856</th>\n",
              "      <td>FE14D7378CFB</td>\n",
              "      <td>Do you agree or disagree about imagination bei...</td>\n",
              "      <td>[88, 81, 2137, 46, 10027, 59, 9201, 134, 56, 4...</td>\n",
              "      <td>3.0</td>\n",
              "      <td>3.0</td>\n",
              "      <td>3.5</td>\n",
              "      <td>3.0</td>\n",
              "      <td>3.5</td>\n",
              "      <td>3.5</td>\n",
              "    </tr>\n",
              "    <tr>\n",
              "      <th>1610</th>\n",
              "      <td>7AAE019F70D6</td>\n",
              "      <td>I disagree with the principal saying that all ...</td>\n",
              "      <td>[41, 10027, 17, 0, 2965, 345, 12, 64, 1813, 18...</td>\n",
              "      <td>3.5</td>\n",
              "      <td>3.5</td>\n",
              "      <td>3.5</td>\n",
              "      <td>3.5</td>\n",
              "      <td>3.0</td>\n",
              "      <td>3.5</td>\n",
              "    </tr>\n",
              "  </tbody>\n",
              "</table>\n",
              "</div>\n",
              "      <button class=\"colab-df-convert\" onclick=\"convertToInteractive('df-712bf9cb-62ac-40f7-9308-b6e297738662')\"\n",
              "              title=\"Convert this dataframe to an interactive table.\"\n",
              "              style=\"display:none;\">\n",
              "        \n",
              "  <svg xmlns=\"http://www.w3.org/2000/svg\" height=\"24px\"viewBox=\"0 0 24 24\"\n",
              "       width=\"24px\">\n",
              "    <path d=\"M0 0h24v24H0V0z\" fill=\"none\"/>\n",
              "    <path d=\"M18.56 5.44l.94 2.06.94-2.06 2.06-.94-2.06-.94-.94-2.06-.94 2.06-2.06.94zm-11 1L8.5 8.5l.94-2.06 2.06-.94-2.06-.94L8.5 2.5l-.94 2.06-2.06.94zm10 10l.94 2.06.94-2.06 2.06-.94-2.06-.94-.94-2.06-.94 2.06-2.06.94z\"/><path d=\"M17.41 7.96l-1.37-1.37c-.4-.4-.92-.59-1.43-.59-.52 0-1.04.2-1.43.59L10.3 9.45l-7.72 7.72c-.78.78-.78 2.05 0 2.83L4 21.41c.39.39.9.59 1.41.59.51 0 1.02-.2 1.41-.59l7.78-7.78 2.81-2.81c.8-.78.8-2.07 0-2.86zM5.41 20L4 18.59l7.72-7.72 1.47 1.35L5.41 20z\"/>\n",
              "  </svg>\n",
              "      </button>\n",
              "      \n",
              "  <style>\n",
              "    .colab-df-container {\n",
              "      display:flex;\n",
              "      flex-wrap:wrap;\n",
              "      gap: 12px;\n",
              "    }\n",
              "\n",
              "    .colab-df-convert {\n",
              "      background-color: #E8F0FE;\n",
              "      border: none;\n",
              "      border-radius: 50%;\n",
              "      cursor: pointer;\n",
              "      display: none;\n",
              "      fill: #1967D2;\n",
              "      height: 32px;\n",
              "      padding: 0 0 0 0;\n",
              "      width: 32px;\n",
              "    }\n",
              "\n",
              "    .colab-df-convert:hover {\n",
              "      background-color: #E2EBFA;\n",
              "      box-shadow: 0px 1px 2px rgba(60, 64, 67, 0.3), 0px 1px 3px 1px rgba(60, 64, 67, 0.15);\n",
              "      fill: #174EA6;\n",
              "    }\n",
              "\n",
              "    [theme=dark] .colab-df-convert {\n",
              "      background-color: #3B4455;\n",
              "      fill: #D2E3FC;\n",
              "    }\n",
              "\n",
              "    [theme=dark] .colab-df-convert:hover {\n",
              "      background-color: #434B5C;\n",
              "      box-shadow: 0px 1px 3px 1px rgba(0, 0, 0, 0.15);\n",
              "      filter: drop-shadow(0px 1px 2px rgba(0, 0, 0, 0.3));\n",
              "      fill: #FFFFFF;\n",
              "    }\n",
              "  </style>\n",
              "\n",
              "      <script>\n",
              "        const buttonEl =\n",
              "          document.querySelector('#df-712bf9cb-62ac-40f7-9308-b6e297738662 button.colab-df-convert');\n",
              "        buttonEl.style.display =\n",
              "          google.colab.kernel.accessAllowed ? 'block' : 'none';\n",
              "\n",
              "        async function convertToInteractive(key) {\n",
              "          const element = document.querySelector('#df-712bf9cb-62ac-40f7-9308-b6e297738662');\n",
              "          const dataTable =\n",
              "            await google.colab.kernel.invokeFunction('convertToInteractive',\n",
              "                                                     [key], {});\n",
              "          if (!dataTable) return;\n",
              "\n",
              "          const docLinkHtml = 'Like what you see? Visit the ' +\n",
              "            '<a target=\"_blank\" href=https://colab.research.google.com/notebooks/data_table.ipynb>data table notebook</a>'\n",
              "            + ' to learn more about interactive tables.';\n",
              "          element.innerHTML = '';\n",
              "          dataTable['output_type'] = 'display_data';\n",
              "          await google.colab.output.renderOutput(dataTable, element);\n",
              "          const docLink = document.createElement('div');\n",
              "          docLink.innerHTML = docLinkHtml;\n",
              "          element.appendChild(docLink);\n",
              "        }\n",
              "      </script>\n",
              "    </div>\n",
              "  </div>\n",
              "  "
            ]
          },
          "metadata": {},
          "execution_count": 25
        }
      ],
      "source": [
        "df_train.head()"
      ]
    },
    {
      "cell_type": "code",
      "execution_count": 26,
      "metadata": {
        "id": "dnPe9lf9FsaE"
      },
      "outputs": [],
      "source": [
        "ds_train = EssayDataset(df_train, \"word_token_nltk_idx\", task_cols)\n",
        "dl_train = torch.utils.data.DataLoader(\n",
        "    ds_train, batch_size=BATCH_SIZE, \n",
        "    shuffle=True, collate_fn=essay_collate_fn)\n",
        "ds_valid = EssayDataset(df_valid, \"word_token_nltk_idx\", task_cols)\n",
        "dl_valid = torch.utils.data.DataLoader(\n",
        "    ds_valid, batch_size=BATCH_SIZE, \n",
        "    shuffle=True, collate_fn=essay_collate_fn)\n",
        "ds_test = EssayDataset(df_test, \"word_token_nltk_idx\", task_cols)\n",
        "dl_test = torch.utils.data.DataLoader(\n",
        "    ds_test, batch_size=BATCH_SIZE, \n",
        "    shuffle=True, collate_fn=essay_collate_fn)"
      ]
    },
    {
      "cell_type": "code",
      "source": [
        "df_test.shape"
      ],
      "metadata": {
        "colab": {
          "base_uri": "https://localhost:8080/"
        },
        "id": "VZzf8m8oYmCv",
        "outputId": "a1801d94-3a42-4452-f2d9-cd1a108847e8"
      },
      "execution_count": 39,
      "outputs": [
        {
          "output_type": "execute_result",
          "data": {
            "text/plain": [
              "(392, 9)"
            ]
          },
          "metadata": {},
          "execution_count": 39
        }
      ]
    },
    {
      "cell_type": "code",
      "execution_count": 27,
      "metadata": {
        "id": "czxqAKtOFsaF"
      },
      "outputs": [],
      "source": [
        "from gru import GRUGrader\n",
        "from trainer import train_grader"
      ]
    },
    {
      "cell_type": "code",
      "execution_count": 28,
      "metadata": {
        "id": "QXPcV6-tFsaF"
      },
      "outputs": [],
      "source": [
        "gru_grader = GRUGrader(gensim_emb_weights=gensim_emb_weights)\n"
      ]
    },
    {
      "cell_type": "code",
      "execution_count": 29,
      "metadata": {
        "id": "esO8Ugn4FsaF",
        "colab": {
          "base_uri": "https://localhost:8080/"
        },
        "outputId": "70347ba7-f9a4-4e4f-da0d-f0a013e3fe77"
      },
      "outputs": [
        {
          "output_type": "stream",
          "name": "stdout",
          "text": [
            "Epoch 0000, train loss: 0.917489, valid loss: 0.799257, best valid loss: inf\n",
            "Epoch 0001, train loss: 0.438210, valid loss: 0.407726, best valid loss: inf\n",
            "Epoch 0002, train loss: 0.438662, valid loss: 0.401707, best valid loss: inf\n",
            "Epoch 0003, train loss: 0.422672, valid loss: 0.462174, best valid loss: 0.462174\n",
            "Epoch 0004, train loss: 0.409525, valid loss: 0.405165, best valid loss: 0.462174\n",
            "Epoch 0005, train loss: 0.394810, valid loss: 0.347148, best valid loss: 0.462174\n",
            "Epoch 0006, train loss: 0.367131, valid loss: 0.453248, best valid loss: 0.453248\n",
            "Epoch 0007, train loss: 0.349584, valid loss: 0.328271, best valid loss: 0.453248\n",
            "Epoch 0008, train loss: 0.331219, valid loss: 0.308093, best valid loss: 0.453248\n",
            "Epoch 0009, train loss: 0.324908, valid loss: 0.353262, best valid loss: 0.353262\n",
            "Epoch 0010, train loss: 0.318262, valid loss: 0.314473, best valid loss: 0.353262\n",
            "Epoch 0011, train loss: 0.308925, valid loss: 0.323371, best valid loss: 0.323371\n",
            "Epoch 0012, train loss: 0.306232, valid loss: 0.335760, best valid loss: 0.323371\n",
            "Epoch 0013, train loss: 0.315624, valid loss: 0.342893, best valid loss: 0.323371\n",
            "Epoch 0014, train loss: 0.290457, valid loss: 0.292745, best valid loss: 0.292745\n",
            "Epoch 0015, train loss: 0.282463, valid loss: 0.352090, best valid loss: 0.292745\n",
            "Epoch 0016, train loss: 0.262275, valid loss: 0.332836, best valid loss: 0.292745\n",
            "Epoch 0017, train loss: 0.255838, valid loss: 0.357443, best valid loss: 0.292745\n",
            "Epoch 0018, train loss: 0.252373, valid loss: 0.340541, best valid loss: 0.292745\n",
            "Epoch 0019, train loss: 0.251526, valid loss: 0.341989, best valid loss: 0.292745\n",
            "Epoch 0020, train loss: 0.239217, valid loss: 0.325874, best valid loss: 0.292745\n",
            "Epoch 0021, train loss: 0.231090, valid loss: 0.313163, best valid loss: 0.292745\n",
            "Epoch 0022, train loss: 0.221412, valid loss: 0.309461, best valid loss: 0.292745\n",
            "Epoch 0023, train loss: 0.214052, valid loss: 0.308346, best valid loss: 0.292745\n",
            "Epoch 0024, train loss: 0.207166, valid loss: 0.378815, best valid loss: 0.292745\n",
            "Early stopping, best valid loss: 0.292745\n"
          ]
        }
      ],
      "source": [
        "best_default_model = train_grader(dl_train, dl_valid, \n",
        "    model=gru_grader,\n",
        "    model_name=\"default\",\n",
        "    loss_func=torch.nn.MSELoss(),\n",
        "    opt=torch.optim.Adam(gru_grader.parameters(), lr=0.001),\n",
        "    epochs=30)"
      ]
    },
    {
      "cell_type": "code",
      "source": [
        "best_default_model.eval()\n",
        "device = torch.device(\"cuda\" if torch.cuda.is_available() else \"cpu\")\n",
        "test_pred = torch.concat([\n",
        "    best_default_model([xb.to(device), sb.to(device)]) for ([xb, sb]), _ in dl_test]\n",
        "    ).cpu().detach().numpy()"
      ],
      "metadata": {
        "colab": {
          "base_uri": "https://localhost:8080/"
        },
        "id": "X49RzJlOW54E",
        "outputId": "06e10115-85d6-4da9-a6a7-794bd5f7a06a"
      },
      "execution_count": 92,
      "outputs": [
        {
          "output_type": "stream",
          "name": "stderr",
          "text": [
            "/usr/local/lib/python3.7/dist-packages/torch/nn/modules/rnn.py:954: UserWarning: RNN module weights are not part of single contiguous chunk of memory. This means they need to be compacted at every call, possibly greatly increasing memory usage. To compact weights again call flatten_parameters(). (Triggered internally at  ../aten/src/ATen/native/cudnn/RNN.cpp:968.)\n",
            "  self.num_layers, self.dropout, self.training, self.bidirectional)\n"
          ]
        }
      ]
    },
    {
      "cell_type": "markdown",
      "source": [
        "**Performance Evaluation**"
      ],
      "metadata": {
        "id": "ZRMSscEE3WeB"
      }
    },
    {
      "cell_type": "code",
      "source": [
        "## Converting Prediction array into Pandas Dataframe\n",
        "\n",
        "pred_cols = [\"cohesion_pred\",\"syntax_pred\",\"vocabulary_pred\", \n",
        "    \"phraseology_pred\", \"grammar_pred\", \"conventions_pred\"]\n",
        "\n",
        "pred_df = pd.DataFrame(data= test_pred, columns = pred_cols)\n",
        "pred_df.head(5)"
      ],
      "metadata": {
        "colab": {
          "base_uri": "https://localhost:8080/",
          "height": 206
        },
        "id": "GTsypSn8bEPC",
        "outputId": "19b13bb0-e514-4e4f-9df8-bc04dd2210d8"
      },
      "execution_count": 93,
      "outputs": [
        {
          "output_type": "execute_result",
          "data": {
            "text/plain": [
              "   cohesion_pred  syntax_pred  vocabulary_pred  phraseology_pred  \\\n",
              "0       3.651461     3.454639         3.686070          3.594072   \n",
              "1       3.388020     3.194679         3.441223          3.347355   \n",
              "2       3.533994     3.355825         3.565684          3.471856   \n",
              "3       3.921016     3.705667         3.914559          3.844837   \n",
              "4       3.367429     3.191929         3.433972          3.355413   \n",
              "\n",
              "   grammar_pred  conventions_pred  \n",
              "0      3.442849          3.682776  \n",
              "1      3.158853          3.313161  \n",
              "2      3.393566          3.590303  \n",
              "3      3.682505          3.977976  \n",
              "4      3.229849          3.421072  "
            ],
            "text/html": [
              "\n",
              "  <div id=\"df-603ec283-c8ba-446d-8d07-7d5640995dfc\">\n",
              "    <div class=\"colab-df-container\">\n",
              "      <div>\n",
              "<style scoped>\n",
              "    .dataframe tbody tr th:only-of-type {\n",
              "        vertical-align: middle;\n",
              "    }\n",
              "\n",
              "    .dataframe tbody tr th {\n",
              "        vertical-align: top;\n",
              "    }\n",
              "\n",
              "    .dataframe thead th {\n",
              "        text-align: right;\n",
              "    }\n",
              "</style>\n",
              "<table border=\"1\" class=\"dataframe\">\n",
              "  <thead>\n",
              "    <tr style=\"text-align: right;\">\n",
              "      <th></th>\n",
              "      <th>cohesion_pred</th>\n",
              "      <th>syntax_pred</th>\n",
              "      <th>vocabulary_pred</th>\n",
              "      <th>phraseology_pred</th>\n",
              "      <th>grammar_pred</th>\n",
              "      <th>conventions_pred</th>\n",
              "    </tr>\n",
              "  </thead>\n",
              "  <tbody>\n",
              "    <tr>\n",
              "      <th>0</th>\n",
              "      <td>3.651461</td>\n",
              "      <td>3.454639</td>\n",
              "      <td>3.686070</td>\n",
              "      <td>3.594072</td>\n",
              "      <td>3.442849</td>\n",
              "      <td>3.682776</td>\n",
              "    </tr>\n",
              "    <tr>\n",
              "      <th>1</th>\n",
              "      <td>3.388020</td>\n",
              "      <td>3.194679</td>\n",
              "      <td>3.441223</td>\n",
              "      <td>3.347355</td>\n",
              "      <td>3.158853</td>\n",
              "      <td>3.313161</td>\n",
              "    </tr>\n",
              "    <tr>\n",
              "      <th>2</th>\n",
              "      <td>3.533994</td>\n",
              "      <td>3.355825</td>\n",
              "      <td>3.565684</td>\n",
              "      <td>3.471856</td>\n",
              "      <td>3.393566</td>\n",
              "      <td>3.590303</td>\n",
              "    </tr>\n",
              "    <tr>\n",
              "      <th>3</th>\n",
              "      <td>3.921016</td>\n",
              "      <td>3.705667</td>\n",
              "      <td>3.914559</td>\n",
              "      <td>3.844837</td>\n",
              "      <td>3.682505</td>\n",
              "      <td>3.977976</td>\n",
              "    </tr>\n",
              "    <tr>\n",
              "      <th>4</th>\n",
              "      <td>3.367429</td>\n",
              "      <td>3.191929</td>\n",
              "      <td>3.433972</td>\n",
              "      <td>3.355413</td>\n",
              "      <td>3.229849</td>\n",
              "      <td>3.421072</td>\n",
              "    </tr>\n",
              "  </tbody>\n",
              "</table>\n",
              "</div>\n",
              "      <button class=\"colab-df-convert\" onclick=\"convertToInteractive('df-603ec283-c8ba-446d-8d07-7d5640995dfc')\"\n",
              "              title=\"Convert this dataframe to an interactive table.\"\n",
              "              style=\"display:none;\">\n",
              "        \n",
              "  <svg xmlns=\"http://www.w3.org/2000/svg\" height=\"24px\"viewBox=\"0 0 24 24\"\n",
              "       width=\"24px\">\n",
              "    <path d=\"M0 0h24v24H0V0z\" fill=\"none\"/>\n",
              "    <path d=\"M18.56 5.44l.94 2.06.94-2.06 2.06-.94-2.06-.94-.94-2.06-.94 2.06-2.06.94zm-11 1L8.5 8.5l.94-2.06 2.06-.94-2.06-.94L8.5 2.5l-.94 2.06-2.06.94zm10 10l.94 2.06.94-2.06 2.06-.94-2.06-.94-.94-2.06-.94 2.06-2.06.94z\"/><path d=\"M17.41 7.96l-1.37-1.37c-.4-.4-.92-.59-1.43-.59-.52 0-1.04.2-1.43.59L10.3 9.45l-7.72 7.72c-.78.78-.78 2.05 0 2.83L4 21.41c.39.39.9.59 1.41.59.51 0 1.02-.2 1.41-.59l7.78-7.78 2.81-2.81c.8-.78.8-2.07 0-2.86zM5.41 20L4 18.59l7.72-7.72 1.47 1.35L5.41 20z\"/>\n",
              "  </svg>\n",
              "      </button>\n",
              "      \n",
              "  <style>\n",
              "    .colab-df-container {\n",
              "      display:flex;\n",
              "      flex-wrap:wrap;\n",
              "      gap: 12px;\n",
              "    }\n",
              "\n",
              "    .colab-df-convert {\n",
              "      background-color: #E8F0FE;\n",
              "      border: none;\n",
              "      border-radius: 50%;\n",
              "      cursor: pointer;\n",
              "      display: none;\n",
              "      fill: #1967D2;\n",
              "      height: 32px;\n",
              "      padding: 0 0 0 0;\n",
              "      width: 32px;\n",
              "    }\n",
              "\n",
              "    .colab-df-convert:hover {\n",
              "      background-color: #E2EBFA;\n",
              "      box-shadow: 0px 1px 2px rgba(60, 64, 67, 0.3), 0px 1px 3px 1px rgba(60, 64, 67, 0.15);\n",
              "      fill: #174EA6;\n",
              "    }\n",
              "\n",
              "    [theme=dark] .colab-df-convert {\n",
              "      background-color: #3B4455;\n",
              "      fill: #D2E3FC;\n",
              "    }\n",
              "\n",
              "    [theme=dark] .colab-df-convert:hover {\n",
              "      background-color: #434B5C;\n",
              "      box-shadow: 0px 1px 3px 1px rgba(0, 0, 0, 0.15);\n",
              "      filter: drop-shadow(0px 1px 2px rgba(0, 0, 0, 0.3));\n",
              "      fill: #FFFFFF;\n",
              "    }\n",
              "  </style>\n",
              "\n",
              "      <script>\n",
              "        const buttonEl =\n",
              "          document.querySelector('#df-603ec283-c8ba-446d-8d07-7d5640995dfc button.colab-df-convert');\n",
              "        buttonEl.style.display =\n",
              "          google.colab.kernel.accessAllowed ? 'block' : 'none';\n",
              "\n",
              "        async function convertToInteractive(key) {\n",
              "          const element = document.querySelector('#df-603ec283-c8ba-446d-8d07-7d5640995dfc');\n",
              "          const dataTable =\n",
              "            await google.colab.kernel.invokeFunction('convertToInteractive',\n",
              "                                                     [key], {});\n",
              "          if (!dataTable) return;\n",
              "\n",
              "          const docLinkHtml = 'Like what you see? Visit the ' +\n",
              "            '<a target=\"_blank\" href=https://colab.research.google.com/notebooks/data_table.ipynb>data table notebook</a>'\n",
              "            + ' to learn more about interactive tables.';\n",
              "          element.innerHTML = '';\n",
              "          dataTable['output_type'] = 'display_data';\n",
              "          await google.colab.output.renderOutput(dataTable, element);\n",
              "          const docLink = document.createElement('div');\n",
              "          docLink.innerHTML = docLinkHtml;\n",
              "          element.appendChild(docLink);\n",
              "        }\n",
              "      </script>\n",
              "    </div>\n",
              "  </div>\n",
              "  "
            ]
          },
          "metadata": {},
          "execution_count": 93
        }
      ]
    },
    {
      "cell_type": "code",
      "source": [
        "##Joining Prediction Results to Actual test Data\n",
        "final_test = (df_test.reset_index()).join(pred_df)\n",
        "final_test.shape"
      ],
      "metadata": {
        "colab": {
          "base_uri": "https://localhost:8080/"
        },
        "id": "0LfdEzrmcQl_",
        "outputId": "2324e735-333b-473b-9fd5-55f3016217d0"
      },
      "execution_count": 95,
      "outputs": [
        {
          "output_type": "execute_result",
          "data": {
            "text/plain": [
              "(392, 16)"
            ]
          },
          "metadata": {},
          "execution_count": 95
        }
      ]
    },
    {
      "cell_type": "code",
      "source": [
        "## Importing Evaluation Metrics\n",
        "from eval_metric import mcrmse, quad_kappa,round_to_multiple\n",
        "\n",
        "# Quadratic Weighted Kappa metric is used for categorical responses. In order to use it for our use case, following transofrmation were performed on the predicted outcome of measures:\n",
        "# 1. Rounding the predicted values to closest multiple of 0.5.\n",
        "# 2. converting to string.\n",
        "# 3. Using cohen_kappa_score function from sklearn.metrics\n"
      ],
      "metadata": {
        "id": "grsa1Om7hjEy"
      },
      "execution_count": 106,
      "outputs": []
    },
    {
      "cell_type": "code",
      "source": [
        "actual_cols = [\"cohesion\",\"syntax\",\"vocabulary\", \"phraseology\", \"grammar\", \"conventions\"]\n",
        "pred_cols = [\"cohesion_pred\",\"syntax_pred\",\"vocabulary_pred\", \"phraseology_pred\", \"grammar_pred\", \"conventions_pred\"]\n",
        "mcrmse = mcrmse(final_test, actual_cols, pred_cols)\n",
        "print(mcrmse)"
      ],
      "metadata": {
        "colab": {
          "base_uri": "https://localhost:8080/"
        },
        "id": "q6mzzSyThvIa",
        "outputId": "72f1df0b-944d-405c-cdc4-1052f1ce6298"
      },
      "execution_count": 107,
      "outputs": [
        {
          "output_type": "stream",
          "name": "stdout",
          "text": [
            "0.5477241043296427\n"
          ]
        }
      ]
    },
    {
      "cell_type": "code",
      "source": [
        "quad_kappa = quad_kappa(final_test, actual_cols, pred_cols)\n",
        "print(quad_kappa)"
      ],
      "metadata": {
        "colab": {
          "base_uri": "https://localhost:8080/"
        },
        "id": "zbll43wHiK5C",
        "outputId": "4a5c51f1-7192-4744-af0e-06371d4b126b"
      },
      "execution_count": 108,
      "outputs": [
        {
          "output_type": "stream",
          "name": "stdout",
          "text": [
            "[0.036703624027800696, -0.005929000222337555, 0.0369465483074084, 0.0002808199943835632, 0.029363556408411262, 0.029099170288423792]\n"
          ]
        }
      ]
    }
  ],
  "metadata": {
    "kernelspec": {
      "display_name": "Python 3.10.4 ('cs7641project')",
      "language": "python",
      "name": "python3"
    },
    "language_info": {
      "codemirror_mode": {
        "name": "ipython",
        "version": 3
      },
      "file_extension": ".py",
      "mimetype": "text/x-python",
      "name": "python",
      "nbconvert_exporter": "python",
      "pygments_lexer": "ipython3",
      "version": "3.10.4"
    },
    "orig_nbformat": 4,
    "vscode": {
      "interpreter": {
        "hash": "0347152bab7395cf6d4d53b744fcb402ec7f725dba3cd9225265b4a9dcbbfed9"
      }
    },
    "colab": {
      "provenance": [],
      "collapsed_sections": []
    },
    "accelerator": "GPU",
    "gpuClass": "standard"
  },
  "nbformat": 4,
  "nbformat_minor": 0
}